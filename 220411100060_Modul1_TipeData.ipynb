{
  "nbformat": 4,
  "nbformat_minor": 0,
  "metadata": {
    "colab": {
      "provenance": []
    },
    "kernelspec": {
      "name": "python3",
      "display_name": "Python 3"
    },
    "language_info": {
      "name": "python"
    }
  },
  "cells": [
    {
      "cell_type": "markdown",
      "source": [
        "Nama:Nadhif Fajrul Minan <br>\n",
        "NIM:220411100060"
      ],
      "metadata": {
        "id": "7FOXRs6ifgbL"
      }
    },
    {
      "cell_type": "markdown",
      "source": [
        "# 1 Konsep\n",
        "### 1.1 Materi\n",
        "  Tulis ringkasan (1 sampai dengan 4 paragraf, jika memungkinkan berikan contoh dalam Python) tentang :\n",
        "  * 1.Tipe Data\n",
        "  * 2.Algoritma (Definisi, Jenis-jenis algoritma, bagaimana menulis algoritma)\n"
      ],
      "metadata": {
        "id": "xF_q8fhMX3Vk"
      }
    },
    {
      "cell_type": "markdown",
      "source": [
        "### jawab:\n",
        "<br>di dalam bahasa pemrograman ada beberapa bentuk data yaitu:1.data numerik: adalah data yang berupa angka yang terdiri dari bilangan bulat dan bilangan pecahan.\n",
        "Tipe angka bilangan bulat disebut integer contoh 1,3,4,53,6,43, dll\n",
        "dan sedangkan angka yang berupa bilangan pecahan yang disebut tipe data Float contoh 1.5, 2.5, 2.3 ,7.1 ,dll<br>\n",
        "    <br>Selanjutnya yang ke-2. Yaitu data yang berupa text/huruf maupun angka yang penulisannya diapit oleh tanda petik baik satu ('_') maupun petik dua(\"_\")  itu disebut tipe data String contohnya adalah:'angsa', \"Indonesia\", 'angka', \"5\", '6' ,'17' ,dll.,selain 3 data itu kita juga mengenal data boolean yaitu data yang menyatakan nilai benar atau salah (true/false).<br>\n",
        "    <br>algoritma merupakan sebuah urutan langkah-langkah yang diciptakan guna menyelesaikan suatu problem yang diimplementasikan sebagai sebuah instruksi/syntax ke dalam bahasa pemrograman secara berurutan.<br>\n",
        "    <br>jenis-jenis algoritma sendiri dibagi menjadi 3 yaitu:\n",
        "*Sequence: adalah sebuah algoritma yang dikerjakan secara lurus dari awal sampai akhir.\n",
        "sebelum saya menyebutkan jenis-jenis algoritma lainnya perlu kita ketahui bahwa sebuah algoritma tidak selalu dalam keadaan lurus(Sequence)tetapi juga ada percabangan dan di sinilah kita kenal dengan yang namanya ekspressi boolean yang bernilai true atau false,ada juga relational operator,dan juga logical operator.\n",
        "*Branches (selection) yaitu suatu kondisi algoritma yang memungkinkan untuk memilih mengerjakan bagian x atau y maupun yang lainnya antara kondisi true dan false\n",
        "*Iteration (looping) yaitu suatu kondisi algoritma yang dimungkinkan menginstruksikan perintah secara berulang sampai jumlah tertentu. di sini kita mengenal syntax yang namanya for dan while untuk perulangan ini.\n",
        "    <br>langakah-langkah menulis algoritma:<br>\n",
        "1.Definisikan masalah yang akan diuraikan\n",
        "2.merumuskan masalah/problem\n",
        "3.menginisialisasikan variabel yang sesuai dengan value\n",
        "4.membuat code perumusan masalah\n",
        "5.membuat inputaan data\n",
        "6.mencetak hasil "
      ],
      "metadata": {
        "id": "JLpnMLRqX8uh"
      }
    },
    {
      "cell_type": "markdown",
      "source": [
        "### 1.2 Algoritma-1\n",
        "Tuliskan algoritma (tiap tahap, diberikan nomor tahapan) untuk menyelesaikan Persamaan Matematika : <br>\n",
        " $y=\\sum_{(i=1)}^n(i^2+2i)$ ,dimana n adalah inputan dari user"
      ],
      "metadata": {
        "id": "WojuLKf5YONC"
      }
    },
    {
      "cell_type": "markdown",
      "source": [
        "### Jawab:\n",
        "1.masukkan nilai dari n <br>\n",
        "2.buat inisialisai temporal=0 dan i =1 <br>\n",
        "3.masukkan rumus y=$y=\\sum_{(i=1)}^n(i^2+2i)$<br>\n",
        "4.inisialisaikan lagi temporal=temporal+y<br>\n",
        "5.tampilkan hasil yang tersimpan dalam variabel temporal yang terakhir"
      ],
      "metadata": {
        "id": "bL_DhRkQYxR6"
      }
    },
    {
      "cell_type": "markdown",
      "source": [
        "###  1.3 Algoritma-2\n",
        "Tuliskan algoritma (tiap tahap, diberikan nomor tahapan) untuk permasalahan berikut ini :\n",
        "1.\tTerdapat (Diketahui) dua buah titik, yaitu (x1,y1) dan (x2,y2)\n",
        "2.\tJika terdapat titik baru yang hanya diketahui nilai koordinat x nya, misal (x3,...), maka cari nilai y3\n",
        "3.\tPetunjuk : Gunakan Persamaan Garis seperti yang ditunjukkan pada Gambar 1, dan![image.png](attachment:image.png)\n",
        "![image-2.png](attachment:image-2.png)\n",
        "Gambar 1: Persamaan Garis y = mx + c\n"
      ],
      "metadata": {
        "id": "8bDSi7u4azO_"
      }
    },
    {
      "cell_type": "markdown",
      "source": [
        "#### Jawab:\n",
        "1.inisialisasikan nilai dari (x1 dan y1),(x2 dan y2) <br>\n",
        "2.masukkan dalam rumus   untuk mengetahui nilai dari M <br>\n",
        "3.masukkan nilai ke dalam rumus persamaan garis y3=x3-x1)<br>\n",
        "4.tampilkan hasil dari y3"
      ],
      "metadata": {
        "id": "OesYtLYsbjez"
      }
    },
    {
      "cell_type": "markdown",
      "source": [
        "### 1.4\tAlgoritma-3\n",
        "Tulis tahapan-tahapan (algoritma) untuk menampilkan sejumlah n bilangan ganjil, dimana n adalah inputan dari user, dan jumlahkan semua bilangan ganjil tersebut."
      ],
      "metadata": {
        "id": "tjPkPBJLb3wd"
      }
    },
    {
      "cell_type": "markdown",
      "source": [
        "### Jawab:\n",
        "1.buat variabel inputan untuk n dan juga inisialisasi variabel lainya<br>\n",
        "2.gunakan iteration(while/for)<br>\n",
        "3.moduluskan bilangan dengan 2 dan equal kan nilai dengan 1<br>\n",
        "4.kemudian inisialisasikan kembali temp dengan temp+a,agar menjadi penamabahan dari hasil akhir iterasi<br>\n",
        "5.kemudian tampilkan hasil dari bilangan ke-n dan hasilnya<br>\n",
        "6.berikan batas/stoping condition dari iterasinya while<br>\n",
        "7.tampilkan hasil dari bilangan ganjil iterasi ke-n<br>"
      ],
      "metadata": {
        "id": "fmIhQ2prcBSD"
      }
    },
    {
      "cell_type": "markdown",
      "source": [
        "### 1.5 Algoritma-4\n",
        "Tulis algoritma untuk menampilkan sejumlah bilangan dan total jumlah dari bilangan-bilangan tersebut, berdasarkan persamaan deret aritmatika.\n",
        "$$Un=a+(n-1)b$$\n",
        "$$Sn=\\frac{n}{2}(2^a + (n-1)b)$$\n",
        "dimana\n",
        "Un : suku ke-n (n input dari user) \n",
        "a : suku awal(input dari user) \n",
        "b : beda(input dari user), and\n",
        "Sn : Total jumlah seluruh suku, mulai dari suku pertama sampai suku ke-n"
      ],
      "metadata": {
        "id": "NzqkqkYNcTV6"
      }
    },
    {
      "cell_type": "markdown",
      "source": [
        "### Jawab:\n",
        "1.cara pertama buat inputan/angka yang harus dimasukkan user untuk menyatakan suku ke berapa? ,suku pertama?,interval/bedanya? .<br>\n",
        "\n",
        "2.keumdian kita gunakan iteration samapai suku ke -n.(for/while)<br>\n",
        "\n",
        "3.kemudian kita ganti nilai n=i+1,dimana di setiap iterasinya yang berubah ditambahkan 1<br>\n",
        "\n",
        "4.Tentukan rumus dan pola bilanganya yaitu kita memakai Un =a+(n-1)*b dan jumlah semua suku-Sn=n/2*(2*a+(n-1)*b).<br>\n",
        "\n",
        "5.kemudian print/lakukan perintah cetak dari  Un dan Sn"
      ],
      "metadata": {
        "id": "rxcnEmeWccE4"
      }
    },
    {
      "cell_type": "markdown",
      "source": [
        "# 2  Implementasi\n",
        "### 2.1 Program Bilangan Ganjil\n",
        "Konversi algoritma yang sudah ditulis sebelumnya dengan menggunakan bahasa Pemrograman Python. Contoh hasil eksekusi dapat dilihat di Gambar.2a or Gambar.2b :"
      ],
      "metadata": {
        "id": "1fG_4yo2dAUE"
      }
    },
    {
      "cell_type": "markdown",
      "source": [
        "### 2.2 Program Deret Aritmatika\n",
        "Konversi algoritma yang sudah ditulis sebelumnya dengan menggunakan bahasa Pemrograman Python, seperti yang ditunjukkan pada Gambar 3a or Gambar3b.\n",
        "![image.png](attachment:image.png)\n",
        "        (a)n=5\n",
        "        (b)n=10\n",
        "Gambar Bilangan Ganjil dan jumlahnya\n",
        "![image-2.png](attachment:image-2.png)\n",
        "(a) n = 3,a = 4,b = 6  . (b) n = 5,a = 6,b = 7\n",
        "Gambar 3: Arithmetic Series\n",
        "### Jawab:"
      ],
      "metadata": {
        "id": "soUBFm5SdfhE"
      }
    },
    {
      "cell_type": "code",
      "source": [
        "n=int(input('masukkan jumlah bilangan='))\n",
        "a=0\n",
        "c=1\n",
        "jumlah=0\n",
        "while c<=n:\n",
        "    if a%2 ==1:\n",
        "        jumlah=jumlah+a\n",
        "        print('bilangan ke-',c,':',a)\n",
        "        c+=1\n",
        "    a+=1\n",
        "print('Total=',jumlah)"
      ],
      "metadata": {
        "colab": {
          "base_uri": "https://localhost:8080/"
        },
        "id": "AyOpuVsDdpeY",
        "outputId": "deba06a2-8ff9-4188-9b2b-b63a46f4ad61"
      },
      "execution_count": null,
      "outputs": [
        {
          "output_type": "stream",
          "name": "stdout",
          "text": [
            "masukkan jumlah bilangan=5\n",
            "bilangan ke- 1 : 1\n",
            "bilangan ke- 2 : 3\n",
            "bilangan ke- 3 : 5\n",
            "bilangan ke- 4 : 7\n",
            "bilangan ke- 5 : 9\n",
            "Total= 25\n"
          ]
        }
      ]
    },
    {
      "cell_type": "code",
      "source": [
        "n=int(input('masukkan nilai n ='))\n",
        "a=int(input('masukkan nilai a ='))\n",
        "b=int(input('masukkan nilai b ='))\n",
        "for i in range(n):\n",
        "    n=i+1\n",
        "    Un=a+(n-1)*b\n",
        "    sn=n/2*(2*a+(n-1)*b)\n",
        "    print('U-',i+1,'=',Un)\n",
        "print('sn=',sn)"
      ],
      "metadata": {
        "colab": {
          "base_uri": "https://localhost:8080/"
        },
        "id": "EeApxtCKeoVK",
        "outputId": "ee2b8fae-ad21-4226-b557-e1e534e118a9"
      },
      "execution_count": null,
      "outputs": [
        {
          "output_type": "stream",
          "name": "stdout",
          "text": [
            "masukkan nilai n =5\n",
            "masukkan nilai a =6\n",
            "masukkan nilai b =7\n",
            "U- 1 = 6\n",
            "U- 2 = 13\n",
            "U- 3 = 20\n",
            "U- 4 = 27\n",
            "U- 5 = 34\n",
            "sn= 100.0\n"
          ]
        }
      ]
    }
  ]
}